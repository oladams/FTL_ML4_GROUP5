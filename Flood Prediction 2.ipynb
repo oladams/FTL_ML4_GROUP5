{
 "cells": [
  {
   "cell_type": "code",
   "execution_count": 1,
   "id": "363d49b2",
   "metadata": {},
   "outputs": [],
   "source": [
    "# Library Imports\n",
    "import pandas as pd\n",
    "import numpy as np\n",
    "from sklearn.model_selection import train_test_split\n",
    "from sklearn.ensemble import RandomForestRegressor\n",
    "from sklearn.metrics import f1_score, recall_score, precision_score, accuracy_score, confusion_matrix\n",
    "import joblib\n",
    "import json\n"
   ]
  },
  {
   "cell_type": "code",
   "execution_count": 2,
   "id": "ca009e21",
   "metadata": {},
   "outputs": [
    {
     "data": {
      "text/html": [
       "<div>\n",
       "<style scoped>\n",
       "    .dataframe tbody tr th:only-of-type {\n",
       "        vertical-align: middle;\n",
       "    }\n",
       "\n",
       "    .dataframe tbody tr th {\n",
       "        vertical-align: top;\n",
       "    }\n",
       "\n",
       "    .dataframe thead th {\n",
       "        text-align: right;\n",
       "    }\n",
       "</style>\n",
       "<table border=\"1\" class=\"dataframe\">\n",
       "  <thead>\n",
       "    <tr style=\"text-align: right;\">\n",
       "      <th></th>\n",
       "      <th>MonsoonIntensity</th>\n",
       "      <th>TopographyDrainage</th>\n",
       "      <th>RiverManagement</th>\n",
       "      <th>Deforestation</th>\n",
       "      <th>Urbanization</th>\n",
       "      <th>ClimateChange</th>\n",
       "      <th>DamsQuality</th>\n",
       "      <th>Siltation</th>\n",
       "      <th>AgriculturalPractices</th>\n",
       "      <th>Encroachments</th>\n",
       "      <th>...</th>\n",
       "      <th>DrainageSystems</th>\n",
       "      <th>CoastalVulnerability</th>\n",
       "      <th>Landslides</th>\n",
       "      <th>Watersheds</th>\n",
       "      <th>DeterioratingInfrastructure</th>\n",
       "      <th>PopulationScore</th>\n",
       "      <th>WetlandLoss</th>\n",
       "      <th>InadequatePlanning</th>\n",
       "      <th>PoliticalFactors</th>\n",
       "      <th>FloodProbability</th>\n",
       "    </tr>\n",
       "  </thead>\n",
       "  <tbody>\n",
       "    <tr>\n",
       "      <th>0</th>\n",
       "      <td>3</td>\n",
       "      <td>8</td>\n",
       "      <td>6</td>\n",
       "      <td>6</td>\n",
       "      <td>4</td>\n",
       "      <td>4</td>\n",
       "      <td>6</td>\n",
       "      <td>2</td>\n",
       "      <td>3</td>\n",
       "      <td>2</td>\n",
       "      <td>...</td>\n",
       "      <td>10</td>\n",
       "      <td>7</td>\n",
       "      <td>4</td>\n",
       "      <td>2</td>\n",
       "      <td>3</td>\n",
       "      <td>4</td>\n",
       "      <td>3</td>\n",
       "      <td>2</td>\n",
       "      <td>6</td>\n",
       "      <td>0.450</td>\n",
       "    </tr>\n",
       "    <tr>\n",
       "      <th>1</th>\n",
       "      <td>8</td>\n",
       "      <td>4</td>\n",
       "      <td>5</td>\n",
       "      <td>7</td>\n",
       "      <td>7</td>\n",
       "      <td>9</td>\n",
       "      <td>1</td>\n",
       "      <td>5</td>\n",
       "      <td>5</td>\n",
       "      <td>4</td>\n",
       "      <td>...</td>\n",
       "      <td>9</td>\n",
       "      <td>2</td>\n",
       "      <td>6</td>\n",
       "      <td>2</td>\n",
       "      <td>1</td>\n",
       "      <td>1</td>\n",
       "      <td>9</td>\n",
       "      <td>1</td>\n",
       "      <td>3</td>\n",
       "      <td>0.475</td>\n",
       "    </tr>\n",
       "    <tr>\n",
       "      <th>2</th>\n",
       "      <td>3</td>\n",
       "      <td>10</td>\n",
       "      <td>4</td>\n",
       "      <td>1</td>\n",
       "      <td>7</td>\n",
       "      <td>5</td>\n",
       "      <td>4</td>\n",
       "      <td>7</td>\n",
       "      <td>4</td>\n",
       "      <td>9</td>\n",
       "      <td>...</td>\n",
       "      <td>7</td>\n",
       "      <td>4</td>\n",
       "      <td>4</td>\n",
       "      <td>8</td>\n",
       "      <td>6</td>\n",
       "      <td>1</td>\n",
       "      <td>8</td>\n",
       "      <td>3</td>\n",
       "      <td>6</td>\n",
       "      <td>0.515</td>\n",
       "    </tr>\n",
       "    <tr>\n",
       "      <th>3</th>\n",
       "      <td>4</td>\n",
       "      <td>4</td>\n",
       "      <td>2</td>\n",
       "      <td>7</td>\n",
       "      <td>3</td>\n",
       "      <td>4</td>\n",
       "      <td>1</td>\n",
       "      <td>4</td>\n",
       "      <td>6</td>\n",
       "      <td>4</td>\n",
       "      <td>...</td>\n",
       "      <td>4</td>\n",
       "      <td>2</td>\n",
       "      <td>6</td>\n",
       "      <td>6</td>\n",
       "      <td>8</td>\n",
       "      <td>8</td>\n",
       "      <td>6</td>\n",
       "      <td>6</td>\n",
       "      <td>10</td>\n",
       "      <td>0.520</td>\n",
       "    </tr>\n",
       "    <tr>\n",
       "      <th>4</th>\n",
       "      <td>3</td>\n",
       "      <td>7</td>\n",
       "      <td>5</td>\n",
       "      <td>2</td>\n",
       "      <td>5</td>\n",
       "      <td>8</td>\n",
       "      <td>5</td>\n",
       "      <td>2</td>\n",
       "      <td>7</td>\n",
       "      <td>5</td>\n",
       "      <td>...</td>\n",
       "      <td>7</td>\n",
       "      <td>6</td>\n",
       "      <td>5</td>\n",
       "      <td>3</td>\n",
       "      <td>3</td>\n",
       "      <td>4</td>\n",
       "      <td>4</td>\n",
       "      <td>3</td>\n",
       "      <td>4</td>\n",
       "      <td>0.475</td>\n",
       "    </tr>\n",
       "  </tbody>\n",
       "</table>\n",
       "<p>5 rows × 21 columns</p>\n",
       "</div>"
      ],
      "text/plain": [
       "   MonsoonIntensity  TopographyDrainage  RiverManagement  Deforestation  \\\n",
       "0                 3                   8                6              6   \n",
       "1                 8                   4                5              7   \n",
       "2                 3                  10                4              1   \n",
       "3                 4                   4                2              7   \n",
       "4                 3                   7                5              2   \n",
       "\n",
       "   Urbanization  ClimateChange  DamsQuality  Siltation  AgriculturalPractices  \\\n",
       "0             4              4            6          2                      3   \n",
       "1             7              9            1          5                      5   \n",
       "2             7              5            4          7                      4   \n",
       "3             3              4            1          4                      6   \n",
       "4             5              8            5          2                      7   \n",
       "\n",
       "   Encroachments  ...  DrainageSystems  CoastalVulnerability  Landslides  \\\n",
       "0              2  ...               10                     7           4   \n",
       "1              4  ...                9                     2           6   \n",
       "2              9  ...                7                     4           4   \n",
       "3              4  ...                4                     2           6   \n",
       "4              5  ...                7                     6           5   \n",
       "\n",
       "   Watersheds  DeterioratingInfrastructure  PopulationScore  WetlandLoss  \\\n",
       "0           2                            3                4            3   \n",
       "1           2                            1                1            9   \n",
       "2           8                            6                1            8   \n",
       "3           6                            8                8            6   \n",
       "4           3                            3                4            4   \n",
       "\n",
       "   InadequatePlanning  PoliticalFactors  FloodProbability  \n",
       "0                   2                 6             0.450  \n",
       "1                   1                 3             0.475  \n",
       "2                   3                 6             0.515  \n",
       "3                   6                10             0.520  \n",
       "4                   3                 4             0.475  \n",
       "\n",
       "[5 rows x 21 columns]"
      ]
     },
     "execution_count": 2,
     "metadata": {},
     "output_type": "execute_result"
    }
   ],
   "source": [
    "data=pd.read_csv(r\"C:\\Users\\Hp\\Downloads\\Flood Dataset\\flood.csv\")\n",
    "data.head(5)"
   ]
  },
  {
   "cell_type": "code",
   "execution_count": 3,
   "id": "1b134ac2",
   "metadata": {},
   "outputs": [],
   "source": [
    "# Step 2: Dataset Preprocessing\n",
    "# Check for missing values\n",
    "if data.isnull().sum().any():\n",
    "    # Optionally remove rows with missing values or fill them\n",
    "    data = data.fillna(data.mean())  # Filling missing values with column mean"
   ]
  },
  {
   "cell_type": "code",
   "execution_count": 4,
   "id": "c66894ac",
   "metadata": {},
   "outputs": [],
   "source": [
    "# Step 3: Define Features and Target\n",
    "X = data.drop('FloodProbability', axis=1)  # Features (independent variables)\n",
    "y = data['FloodProbability']  # Target (dependent variable)"
   ]
  },
  {
   "cell_type": "code",
   "execution_count": 5,
   "id": "ffe72c99",
   "metadata": {},
   "outputs": [],
   "source": [
    "# Split the data into training and testing sets\n",
    "X_train, X_test, y_train, y_test = train_test_split(X, y, test_size=0.2, random_state=42)\n"
   ]
  },
  {
   "cell_type": "code",
   "execution_count": 7,
   "id": "ab9ed53b",
   "metadata": {},
   "outputs": [],
   "source": [
    "# Step 4: Declare and Configure Model\n",
    "# Initialize Random Forest Regressor\n",
    "rf_model = RandomForestRegressor(n_estimators=100, random_state=42, max_depth=10)"
   ]
  },
  {
   "cell_type": "code",
   "execution_count": 8,
   "id": "f74a863c",
   "metadata": {},
   "outputs": [
    {
     "data": {
      "text/html": [
       "<style>#sk-container-id-1 {color: black;background-color: white;}#sk-container-id-1 pre{padding: 0;}#sk-container-id-1 div.sk-toggleable {background-color: white;}#sk-container-id-1 label.sk-toggleable__label {cursor: pointer;display: block;width: 100%;margin-bottom: 0;padding: 0.3em;box-sizing: border-box;text-align: center;}#sk-container-id-1 label.sk-toggleable__label-arrow:before {content: \"▸\";float: left;margin-right: 0.25em;color: #696969;}#sk-container-id-1 label.sk-toggleable__label-arrow:hover:before {color: black;}#sk-container-id-1 div.sk-estimator:hover label.sk-toggleable__label-arrow:before {color: black;}#sk-container-id-1 div.sk-toggleable__content {max-height: 0;max-width: 0;overflow: hidden;text-align: left;background-color: #f0f8ff;}#sk-container-id-1 div.sk-toggleable__content pre {margin: 0.2em;color: black;border-radius: 0.25em;background-color: #f0f8ff;}#sk-container-id-1 input.sk-toggleable__control:checked~div.sk-toggleable__content {max-height: 200px;max-width: 100%;overflow: auto;}#sk-container-id-1 input.sk-toggleable__control:checked~label.sk-toggleable__label-arrow:before {content: \"▾\";}#sk-container-id-1 div.sk-estimator input.sk-toggleable__control:checked~label.sk-toggleable__label {background-color: #d4ebff;}#sk-container-id-1 div.sk-label input.sk-toggleable__control:checked~label.sk-toggleable__label {background-color: #d4ebff;}#sk-container-id-1 input.sk-hidden--visually {border: 0;clip: rect(1px 1px 1px 1px);clip: rect(1px, 1px, 1px, 1px);height: 1px;margin: -1px;overflow: hidden;padding: 0;position: absolute;width: 1px;}#sk-container-id-1 div.sk-estimator {font-family: monospace;background-color: #f0f8ff;border: 1px dotted black;border-radius: 0.25em;box-sizing: border-box;margin-bottom: 0.5em;}#sk-container-id-1 div.sk-estimator:hover {background-color: #d4ebff;}#sk-container-id-1 div.sk-parallel-item::after {content: \"\";width: 100%;border-bottom: 1px solid gray;flex-grow: 1;}#sk-container-id-1 div.sk-label:hover label.sk-toggleable__label {background-color: #d4ebff;}#sk-container-id-1 div.sk-serial::before {content: \"\";position: absolute;border-left: 1px solid gray;box-sizing: border-box;top: 0;bottom: 0;left: 50%;z-index: 0;}#sk-container-id-1 div.sk-serial {display: flex;flex-direction: column;align-items: center;background-color: white;padding-right: 0.2em;padding-left: 0.2em;position: relative;}#sk-container-id-1 div.sk-item {position: relative;z-index: 1;}#sk-container-id-1 div.sk-parallel {display: flex;align-items: stretch;justify-content: center;background-color: white;position: relative;}#sk-container-id-1 div.sk-item::before, #sk-container-id-1 div.sk-parallel-item::before {content: \"\";position: absolute;border-left: 1px solid gray;box-sizing: border-box;top: 0;bottom: 0;left: 50%;z-index: -1;}#sk-container-id-1 div.sk-parallel-item {display: flex;flex-direction: column;z-index: 1;position: relative;background-color: white;}#sk-container-id-1 div.sk-parallel-item:first-child::after {align-self: flex-end;width: 50%;}#sk-container-id-1 div.sk-parallel-item:last-child::after {align-self: flex-start;width: 50%;}#sk-container-id-1 div.sk-parallel-item:only-child::after {width: 0;}#sk-container-id-1 div.sk-dashed-wrapped {border: 1px dashed gray;margin: 0 0.4em 0.5em 0.4em;box-sizing: border-box;padding-bottom: 0.4em;background-color: white;}#sk-container-id-1 div.sk-label label {font-family: monospace;font-weight: bold;display: inline-block;line-height: 1.2em;}#sk-container-id-1 div.sk-label-container {text-align: center;}#sk-container-id-1 div.sk-container {/* jupyter's `normalize.less` sets `[hidden] { display: none; }` but bootstrap.min.css set `[hidden] { display: none !important; }` so we also need the `!important` here to be able to override the default hidden behavior on the sphinx rendered scikit-learn.org. See: https://github.com/scikit-learn/scikit-learn/issues/21755 */display: inline-block !important;position: relative;}#sk-container-id-1 div.sk-text-repr-fallback {display: none;}</style><div id=\"sk-container-id-1\" class=\"sk-top-container\"><div class=\"sk-text-repr-fallback\"><pre>RandomForestRegressor(max_depth=10, random_state=42)</pre><b>In a Jupyter environment, please rerun this cell to show the HTML representation or trust the notebook. <br />On GitHub, the HTML representation is unable to render, please try loading this page with nbviewer.org.</b></div><div class=\"sk-container\" hidden><div class=\"sk-item\"><div class=\"sk-estimator sk-toggleable\"><input class=\"sk-toggleable__control sk-hidden--visually\" id=\"sk-estimator-id-1\" type=\"checkbox\" checked><label for=\"sk-estimator-id-1\" class=\"sk-toggleable__label sk-toggleable__label-arrow\">RandomForestRegressor</label><div class=\"sk-toggleable__content\"><pre>RandomForestRegressor(max_depth=10, random_state=42)</pre></div></div></div></div></div>"
      ],
      "text/plain": [
       "RandomForestRegressor(max_depth=10, random_state=42)"
      ]
     },
     "execution_count": 8,
     "metadata": {},
     "output_type": "execute_result"
    }
   ],
   "source": [
    "# Step 5: Train the Model\n",
    "rf_model.fit(X_train, y_train)"
   ]
  },
  {
   "cell_type": "code",
   "execution_count": 9,
   "id": "8e963ba6",
   "metadata": {},
   "outputs": [
    {
     "data": {
      "text/plain": [
       "['feature_names.pkl']"
      ]
     },
     "execution_count": 9,
     "metadata": {},
     "output_type": "execute_result"
    }
   ],
   "source": [
    "# Step 6: Save Model and Feature Names\n",
    "joblib.dump(rf_model, \"random_forest_flood_model.pkl\")  # Saving model\n",
    "joblib.dump(X.columns.tolist(), \"feature_names.pkl\")  # Saving feature names"
   ]
  },
  {
   "cell_type": "code",
   "execution_count": 10,
   "id": "120c56d9",
   "metadata": {},
   "outputs": [
    {
     "name": "stdout",
     "output_type": "stream",
     "text": [
      "Flood Probability Prediction for Custom Input: 61.0 %\n"
     ]
    }
   ],
   "source": [
    "# Step 7: Test the Model with Custom Input\n",
    "# Assume Custom Input as JSON\n",
    "custom_input = {\n",
    "    'MonsoonIntensity': 7, 'TopographyDrainage': 8, 'RiverManagement': 8, 'Deforestation': 7,\n",
    "    'Urbanization': 6, 'ClimateChange': 4, 'DamsQuality': 9, 'Siltation': 3, 'AgriculturalPractices': 9,\n",
    "    'Encroachments': 9, 'IneffectiveDisasterPreparedness': 9, 'DrainageSystems': 8, 'CoastalVulnerability': 7,\n",
    "    'Landslides': 7, 'Watersheds': 5, 'DeterioratingInfrastructure': 9, 'PopulationScore': 7,\n",
    "    'WetlandLoss': 9, 'InadequatePlanning': 9, 'PoliticalFactors': 7\n",
    "}\n",
    "\n",
    "# Convert JSON input to a DataFrame for model input\n",
    "custom_df = pd.DataFrame([custom_input])\n",
    "\n",
    "# Load the model and predict\n",
    "rf_loaded_model = joblib.load(\"random_forest_flood_model.pkl\")\n",
    "prediction = rf_loaded_model.predict(custom_df)\n",
    "\n",
    "print(f\"Flood Probability Prediction for Custom Input: {round(prediction[0], 2) * 100} %\")"
   ]
  },
  {
   "cell_type": "code",
   "execution_count": 11,
   "id": "46f648ac",
   "metadata": {},
   "outputs": [
    {
     "name": "stdout",
     "output_type": "stream",
     "text": [
      "F1 Score: \t0.85\n",
      "Recall:   \t0.82\n",
      "Precision:\t0.88\n",
      "Accuracy: \t0.85\n",
      "Specificity: \t0.88\n"
     ]
    }
   ],
   "source": [
    "# Step 8: Test Model Accuracy\n",
    "y_pred = rf_model.predict(X_test)\n",
    "\n",
    "# Converting both continuous predictions and true values to binary for classification metrics\n",
    "y_pred_binary = [1 if x >= 0.5 else 0 for x in y_pred]  # Thresholding predictions\n",
    "y_test_binary = [1 if x >= 0.5 else 0 for x in y_test]  # Thresholding true values\n",
    "\n",
    "# Metrics Calculation\n",
    "f1 = f1_score(y_test_binary, y_pred_binary)\n",
    "recall = recall_score(y_test_binary, y_pred_binary)\n",
    "precision = precision_score(y_test_binary, y_pred_binary)\n",
    "accuracy = accuracy_score(y_test_binary, y_pred_binary)\n",
    "\n",
    "# Confusion Matrix to calculate specificity\n",
    "tn, fp, fn, tp = confusion_matrix(y_test_binary, y_pred_binary).ravel()\n",
    "specificity = tn / (tn + fp)\n",
    "\n",
    "# Print out the scores\n",
    "print(f\"F1 Score: \\t{round(f1, 2)}\")\n",
    "print(f\"Recall:   \\t{round(recall, 2)}\")\n",
    "print(f\"Precision:\\t{round(precision, 2)}\")\n",
    "print(f\"Accuracy: \\t{round(accuracy, 3)}\")\n",
    "print(f\"Specificity: \\t{round(specificity, 2)}\")"
   ]
  },
  {
   "cell_type": "code",
   "execution_count": 12,
   "id": "50366dfe",
   "metadata": {},
   "outputs": [
    {
     "name": "stdout",
     "output_type": "stream",
     "text": [
      "MSE: \t\t0.0\n",
      "RMSE: \t\t0.03\n",
      "R² Score: \t0.57\n"
     ]
    }
   ],
   "source": [
    "from sklearn.metrics import mean_squared_error, r2_score\n",
    "\n",
    "# Calculate regression metrics\n",
    "mse = mean_squared_error(y_test, y_pred)\n",
    "rmse = mean_squared_error(y_test, y_pred, squared=False)  # RMSE is the square root of MSE\n",
    "r2 = r2_score(y_test, y_pred)\n",
    "\n",
    "print(f\"MSE: \\t\\t{round(mse, 2)}\")\n",
    "print(f\"RMSE: \\t\\t{round(rmse, 2)}\")\n",
    "print(f\"R² Score: \\t{round(r2, 2)}\")\n"
   ]
  },
  {
   "cell_type": "code",
   "execution_count": 13,
   "id": "af894a2d",
   "metadata": {},
   "outputs": [
    {
     "name": "stdout",
     "output_type": "stream",
     "text": [
      "Predicted Flood Probability for Example Input: 0.6454025878744707\n"
     ]
    }
   ],
   "source": [
    "# Step 9: Inference Code for Custom Data Prediction\n",
    "def predict_flood_probability(custom_json: dict) -> float:\n",
    "    \"\"\"\n",
    "    Load the model and predict flood probability for custom input data.\n",
    "    \n",
    "    Args:\n",
    "        custom_json (dict): A dictionary containing the values of all the flood prediction factors.\n",
    "        \n",
    "    Returns:\n",
    "        float: Predicted flood probability.\n",
    "    \"\"\"\n",
    "    # Load the saved model and feature names\n",
    "    model = joblib.load(\"random_forest_flood_model.pkl\")\n",
    "    feature_names = joblib.load(\"feature_names.pkl\")\n",
    "    \n",
    "    # Convert JSON input to DataFrame for prediction\n",
    "    custom_data = pd.DataFrame([custom_json], columns=feature_names)\n",
    "    \n",
    "    # Make prediction\n",
    "    return model.predict(custom_data)[0]\n",
    "\n",
    "\n",
    "# Example usage of the inference function:\n",
    "example_input = {\n",
    "    'MonsoonIntensity': 9, 'TopographyDrainage': 9, 'RiverManagement': 9, 'Deforestation': 9,\n",
    "    'Urbanization': 10, 'ClimateChange': 9, 'DamsQuality': 9, 'Siltation': 9, 'AgriculturalPractices': 9,\n",
    "    'Encroachments': 9, 'IneffectiveDisasterPreparedness': 9, 'DrainageSystems': 9, 'CoastalVulnerability': 10,\n",
    "    'Landslides': 9, 'Watersheds': 9, 'DeterioratingInfrastructure': 9, 'PopulationScore': 9,\n",
    "    'WetlandLoss': 9, 'InadequatePlanning': 9, 'PoliticalFactors': 10\n",
    "}\n",
    "\n",
    "# Predict flood probability for custom input\n",
    "flood_probability = predict_flood_probability(example_input)\n",
    "print(f\"Predicted Flood Probability for Example Input: {flood_probability}\")"
   ]
  },
  {
   "cell_type": "code",
   "execution_count": 14,
   "id": "35aa333d",
   "metadata": {},
   "outputs": [
    {
     "name": "stdout",
     "output_type": "stream",
     "text": [
      "1.2.1\n"
     ]
    }
   ],
   "source": [
    "import joblib\n",
    "\n",
    "# Load the model\n",
    "model = joblib.load(\"random_forest_flood_model.pkl\")\n",
    "\n",
    "# Check the metadata\n",
    "metadata = model.__getstate__()\n",
    "print(metadata['_sklearn_version'])"
   ]
  },
  {
   "cell_type": "code",
   "execution_count": null,
   "id": "eb21997e",
   "metadata": {},
   "outputs": [],
   "source": []
  }
 ],
 "metadata": {
  "kernelspec": {
   "display_name": "base",
   "language": "python",
   "name": "python3"
  },
  "language_info": {
   "codemirror_mode": {
    "name": "ipython",
    "version": 3
   },
   "file_extension": ".py",
   "mimetype": "text/x-python",
   "name": "python",
   "nbconvert_exporter": "python",
   "pygments_lexer": "ipython3",
   "version": "3.11.7"
  }
 },
 "nbformat": 4,
 "nbformat_minor": 5
}
